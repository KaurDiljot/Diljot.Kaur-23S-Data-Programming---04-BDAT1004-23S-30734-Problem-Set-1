{
 "cells": [
  {
   "cell_type": "markdown",
   "id": "b3f970d9",
   "metadata": {},
   "source": [
    "# Question 1 C# \n",
    "//\n",
    "What data type is each of the following?\n",
    "\n",
    "5 : Data type :int; Integer (System.Int32)\n",
    "\n",
    "5.0 : Data type :Floating point number (double)\n",
    "\n",
    "5 > 1: Data type :Boolean\n",
    "\n",
    "'5' : Data type :Character (char)\n",
    "\n",
    "5 * 2 : Data type :int; Integer (System.Int32)\n",
    "\n",
    "'5' * 2:  Data type :int; Integer (System.Int32)\n",
    "\n",
    "'5' + '2':  Data type :int; Integer (System.Int32)\n",
    "\n",
    "5 / 2: Data type :int; Integer (System.Int32)\n",
    "\n",
    "5 % 2: Data type :int; Integer (System.Int32)\n",
    "\n",
    "{5, 2, 1}: Data type: int[] . This is an array containing three integer values: 5, 2, and 1.\n",
    "\n",
    "5 == 3: Data type :Boolean\n",
    "\n",
    "Pi (the number): Data type:  Floating-point number (double) \n",
    "//\n"
   ]
  },
  {
   "cell_type": "code",
   "execution_count": null,
   "id": "89928a2e",
   "metadata": {},
   "outputs": [],
   "source": [
    "Console.WriteLine((5).GetType());          // Output: System.Int32\n",
    "Console.WriteLine((5.0).GetType());        // Output: System.Double\n",
    "Console.WriteLine((5 > 1).GetType());      // Output: System.Boolean\n",
    "Console.WriteLine(('5').GetType());        // Output: System.Char\n",
    "Console.WriteLine((5 * 2).GetType());      // Output: System.Int32\n",
    "Console.WriteLine(('5' * 2).GetType());  // Output: System.Int32\n",
    "Console.WriteLine(('5' + '2').GetType()); // Output: System.Int32\n",
    "Console.WriteLine((5 / 2).GetType());      // Output: System.Int32\n",
    "Console.WriteLine((5 % 2).GetType());      // Output: System.Int32\n",
    "Console.WriteLine((new int[] { 5, 2, 1 }).GetType()); // Output: System.Int32[]\n",
    "Console.WriteLine((5 == 3).GetType());     // Output: System.Boolean\n",
    "Console.WriteLine((Math.PI).GetType());    // Output: System.Double"
   ]
  },
  {
   "cell_type": "markdown",
   "id": "fc0e2eab",
   "metadata": {},
   "source": [
    "//Output\n",
    "System.Int32\n",
    "System.Double\n",
    "System.Boolean\n",
    "System.Char\n",
    "System.Int32\n",
    "System.Int32\n",
    "System.Int32\n",
    "System.Int32\n",
    "System.Int32\n",
    "System.Int32[]\n",
    "System.Boolean\n",
    "System.Double\n",
    "//"
   ]
  },
  {
   "cell_type": "markdown",
   "id": "11dfe298",
   "metadata": {},
   "source": [
    "# Question 2 C#"
   ]
  },
  {
   "cell_type": "markdown",
   "id": "a183075a",
   "metadata": {},
   "source": [
    "Write (and evaluate) C# expressions that answer these questions:\n",
    "a. How many letters are there in 'Supercalifragilisticexpialidocious'?\n",
    "\n",
    "b. Does 'Supercalifragilisticexpialidocious' contain 'ice' as a substring?\n",
    "\n",
    "c. Which of the following words is the longest: \n",
    "Supercalifragilisticexpialidocious, Honorificabilitudinitatibus, or \n",
    "Bababadalgharaghtakamminarronnkonn? \n",
    "\n",
    "d. Which composer comes first in the dictionary: 'Berlioz', 'Borodin', 'Brian', \n",
    "'Bartok', 'Bellini', 'Buxtehude', 'Bernstein'. Which one comes last?"
   ]
  },
  {
   "cell_type": "code",
   "execution_count": null,
   "id": "92767d64",
   "metadata": {},
   "outputs": [],
   "source": [
    "string word = \"Supercalifragilisticexpialidocious\";\n",
    "int NumberofLetters = word.Length;\n",
    "Console.WriteLine(\"Number of letters: \" + NumberofLetters);"
   ]
  },
  {
   "cell_type": "markdown",
   "id": "6286570a",
   "metadata": {},
   "source": [
    "//\n",
    "Output:\n",
    "Number of letters: 34\n",
    "//"
   ]
  },
  {
   "cell_type": "code",
   "execution_count": null,
   "id": "893e8be6",
   "metadata": {},
   "outputs": [],
   "source": [
    "string word = \"Supercalifragilisticexpialidocious\";\n",
    "bool containsSubstring = word.Contains(\"ice\");\n",
    "Console.WriteLine(\" Does 'Supercalifragilisticexpialidocious' contain 'ice' as a substring? \" + containsSubstring);"
   ]
  },
  {
   "cell_type": "markdown",
   "id": "08fe3906",
   "metadata": {},
   "source": [
    "//\n",
    "Output:\n",
    "Does 'Supercalifragilisticexpialidocious' contain 'ice' as a substring? True  \n",
    "//"
   ]
  },
  {
   "cell_type": "code",
   "execution_count": null,
   "id": "ce28541a",
   "metadata": {},
   "outputs": [],
   "source": [
    "string word1 = \"Supercalifragilisticexpialidocious\";\n",
    "string word2 = \"Honorificabilitudinitatibus\";\n",
    "string word3 = \"Bababadalgharaghtakamminarronnkonn\";\n",
    "\n",
    "\n",
    "        int length1 = word1.Length;\n",
    "        int length2 = word2.Length;\n",
    "        int length3 = word3.Length;\n",
    "\n",
    "        Console.WriteLine(\"Word1 length: \" + length1);\n",
    "        Console.WriteLine(\"Word2 length: \" + length2);\n",
    "        Console.WriteLine(\"Word3 length: \" + length3);\n",
    "\n",
    "\n",
    "        if (length1 == length2)\n",
    "        {\n",
    "            Console.WriteLine(\"The length of word1 and word2 is equal.\");\n",
    "        }\n",
    "        else if (length2 == length3)\n",
    "        {\n",
    "            Console.WriteLine(\"The length of word3 and word2 is equal.\");\n",
    "        }\n",
    "\n",
    "        else if (length1 == length3)\n",
    "        {\n",
    "            Console.WriteLine(\"The length of word1 and word3 is equal.\");\n",
    "        }\n",
    "\n",
    "        if (length1 > length2 && length1 > length3)\n",
    "        {\n",
    "            Console.WriteLine(\"Longest word: \" + word1);\n",
    "        }\n",
    "        else if (length2 > length1 && length2 > length3)\n",
    "        {\n",
    "            Console.WriteLine(\"Longest word: \" + word2);\n",
    "        }\n",
    "        else if (length3 > length1 && length3 > length2)\n",
    "        {\n",
    "            Console.WriteLine(\"Longest word: \" + word3);\n",
    "        }\n",
    "        else\n",
    "        {\n",
    "            Console.WriteLine(\"No single word is the longest.\");\n",
    "        }\n"
   ]
  },
  {
   "cell_type": "markdown",
   "id": "a9aa2b7f",
   "metadata": {},
   "source": [
    "//Output:\n",
    "Word1 length: 34\n",
    "Word2 length: 27\n",
    "Word3 length: 34\n",
    "The length of word1 and word3 is equal.\n",
    "No single word is the longest.\n",
    "//"
   ]
  },
  {
   "cell_type": "code",
   "execution_count": null,
   "id": "916cbfc3",
   "metadata": {},
   "outputs": [],
   "source": [
    "string[] composers = { \"Berlioz\", \"Borodin\", \"Brian\", \"Bartok\", \"Bellini\", \"Buxtehude\", \"Bernstein\" };\n",
    "Array.Sort(composers);\n",
    "\n",
    "string firstComposer = composers[0];\n",
    "string lastComposer = composers[composers.Length - 1];\n",
    "\n",
    "Console.WriteLine(\"First composer: \" + firstComposer);\n",
    "Console.WriteLine(\"Last composer: \" + lastComposer);"
   ]
  },
  {
   "cell_type": "markdown",
   "id": "d7de6b84",
   "metadata": {},
   "source": [
    "//Output:\n",
    "First composer: Bartok\n",
    "Last composer: Buxtehude\n",
    "//"
   ]
  },
  {
   "cell_type": "markdown",
   "id": "91e20b0f",
   "metadata": {},
   "source": [
    "# Question 3 C#"
   ]
  },
  {
   "cell_type": "code",
   "execution_count": null,
   "id": "0340fddb",
   "metadata": {},
   "outputs": [],
   "source": [
    "using System;\n",
    "\n",
    "public class TriangleAreaCalculator\n",
    "{\n",
    "    public static double TriangleArea(double a, double b, double c)\n",
    "    {\n",
    "        double s = (a + b + c) / 2; // Calculate the semi-perimeter\n",
    "        double area = Math.Sqrt(s * (s - a) * (s - b) * (s - c)); // Apply Heron's formula\n",
    "        return area;\n",
    "    }\n",
    "}\n",
    "\n",
    "public class Program\n",
    "{\n",
    "    public static void Main(string[] args)\n",
    "    {\n",
    "        double area = TriangleAreaCalculator.TriangleArea(2, 2, 2);\n",
    "        Console.WriteLine(area);\n",
    "    }\n",
    "}\n",
    "\n",
    "\n"
   ]
  },
  {
   "cell_type": "markdown",
   "id": "830e356b",
   "metadata": {},
   "source": [
    "1.7320508075688772"
   ]
  },
  {
   "cell_type": "markdown",
   "id": "3d66a29b",
   "metadata": {},
   "source": [
    "# Question 4 C#"
   ]
  },
  {
   "cell_type": "markdown",
   "id": "db2dae21",
   "metadata": {},
   "source": [
    "Write a program in C# Sharp to separate odd and even integers in separate arrays. "
   ]
  },
  {
   "cell_type": "markdown",
   "id": "453eb829",
   "metadata": {},
   "source": [
    "using System;\n",
    "\n",
    "class Program\n",
    "{\n",
    "    static void Main()\n",
    "    {\n",
    "        Console.Write(\"Input the number of elements to be stored in the array: \");\n",
    "        int count = int.Parse(Console.ReadLine());\n",
    "\n",
    "        int[] numbers = new int[count];\n",
    "        int[] evenNumbers;\n",
    "        int[] oddNumbers;\n",
    "\n",
    "        Console.WriteLine($\"Input {count} elements in the array:\");\n",
    "        for (int i = 0; i < count; i++)\n",
    "        {\n",
    "            Console.Write($\"element - {i} : \");\n",
    "            numbers[i] = int.Parse(Console.ReadLine());\n",
    "        }\n",
    "\n",
    "        SeparateOddEven(numbers, out evenNumbers, out oddNumbers);\n",
    "\n",
    "        Console.WriteLine(\"The Even elements are:\");\n",
    "        PrintArray(evenNumbers);\n",
    "\n",
    "        Console.WriteLine(\"The Odd elements are:\");\n",
    "        PrintArray(oddNumbers);\n",
    "\n",
    "        Console.ReadLine();\n",
    "    }\n",
    "\n",
    "    static void SeparateOddEven(int[] numbers, out int[] evenNumbers, out int[] oddNumbers)\n",
    "    {\n",
    "        evenNumbers = new int[numbers.Length];\n",
    "        oddNumbers = new int[numbers.Length];\n",
    "\n",
    "        int evenIndex = 0;\n",
    "        int oddIndex = 0;\n",
    "\n",
    "        foreach (int number in numbers)\n",
    "        {\n",
    "            if (number % 2 == 0)\n",
    "            {\n",
    "                evenNumbers[evenIndex] = number;\n",
    "                evenIndex++;\n",
    "            }\n",
    "            else\n",
    "            {\n",
    "                oddNumbers[oddIndex] = number;\n",
    "                oddIndex++;\n",
    "            }\n",
    "        }\n",
    "\n",
    "        Array.Resize(ref evenNumbers, evenIndex);\n",
    "        Array.Resize(ref oddNumbers, oddIndex);\n",
    "    }\n",
    "\n",
    "    static void PrintArray(int[] array)\n",
    "    {\n",
    "        foreach (int element in array)\n",
    "        {\n",
    "            Console.Write($\"{element} \");\n",
    "        }\n",
    "        Console.WriteLine();\n",
    "    }\n",
    "}\n"
   ]
  },
  {
   "cell_type": "markdown",
   "id": "8f58dc98",
   "metadata": {},
   "source": [
    "Input the number of elements to be stored in the array :5\n",
    "Input 5 elements in the array :\n",
    "element - 0 : 25\n",
    "element - 1 : 47\n",
    "element - 2 : 42\n",
    "element - 3 : 56\n",
    "element - 4 : 32\n",
    "The Even elements are:\n",
    "42 56 32\n",
    "The Odd elements are :\n",
    "25 47\n"
   ]
  },
  {
   "cell_type": "markdown",
   "id": "b5ddc122",
   "metadata": {},
   "source": [
    "# Question 5#"
   ]
  },
  {
   "cell_type": "markdown",
   "id": "c3a22b30",
   "metadata": {},
   "source": [
    "a. Write a function inside(x,y,x1,y1,x2,y2) that returns True or False depending on whether the point (x,y) lies in the rectangle with lower left corner (x1,y1) and upper right corner (x2,y2). >>> inside(1,1,0,0,2,3) True >>> inside(-1,-1,0,0,2,3) False                                                                                                                            b. Use function inside() from part a. to write an expression that tests whether the point (1,1) lies in both of the following rectangles: one with lower left corner (0.3, 0.5) and upper right corner (1.1, 0.7) and the other with lower left corner (0.5, 0.2) and upper right corner (1.1, 2).\n"
   ]
  },
  {
   "cell_type": "code",
   "execution_count": null,
   "id": "1737306b",
   "metadata": {},
   "outputs": [],
   "source": [
    "using System;\n",
    "\n",
    "public class Rectangle\n",
    "{\n",
    "    public double x1, y1, x2, y2;\n",
    "\n",
    "    public Rectangle(double x1, double y1, double x2, double y2)\n",
    "    {\n",
    "        this.x1 = x1;\n",
    "        this.y1 = y1;\n",
    "        this.x2 = x2;\n",
    "        this.y2 = y2;\n",
    "    }\n",
    "\n",
    "    public bool Inside(double x, double y)\n",
    "    {\n",
    "        return x >= x1 && x <= x2 && y >= y1 && y <= y2;\n",
    "    }\n",
    "}\n",
    "\n",
    "public class Program\n",
    "{\n",
    "    public static void Main()\n",
    "    {\n",
    "        Console.WriteLine(Inside(1, 1, 0, 0, 2, 3));     // True\n",
    "        Console.WriteLine(Inside(-1, -1, 0, 0, 2, 3));   // False\n",
    "\n",
    "        Rectangle rectangle1 = new Rectangle(0.3, 0.5, 1.1, 0.7);\n",
    "        Rectangle rectangle2 = new Rectangle(0.5, 0.2, 1.1, 2);\n",
    "\n",
    "        bool pointInBothRectangles = rectangle1.Inside(1, 1) && rectangle2.Inside(1, 1);\n",
    "        Console.WriteLine(pointInBothRectangles);       // False\n",
    "    }\n",
    "\n",
    "    public static bool Inside(double x, double y, double x1, double y1, double x2, double y2)\n",
    "    {\n",
    "        return x >= x1 && x <= x2 && y >= y1 && y <= y2;\n",
    "    }\n",
    "}\n",
    "\n"
   ]
  },
  {
   "cell_type": "markdown",
   "id": "6a9fd0f5",
   "metadata": {},
   "source": [
    "True\n",
    "False\n",
    "False"
   ]
  },
  {
   "cell_type": "markdown",
   "id": "63329b69",
   "metadata": {},
   "source": [
    "# Question 6"
   ]
  },
  {
   "cell_type": "markdown",
   "id": "959974e9",
   "metadata": {},
   "source": [
    "You can turn a word into pig-Latin using the following two rules (simplified):\n",
    "• If the word starts with a consonant, move that letter to the end and append 'ay'. For example, 'happy' becomes 'appyhay' and 'pencil' becomes 'encilpay'.\n",
    "• If the word starts with a vowel, simply append 'way' to the end of the word. For example, 'enter' becomes 'enterway' and 'other' becomes 'otherway' .\n",
    "For our purposes, there are 5 vowels: a, e, i, o, u (so we count y as a consonant).Write a function pig() that takes a word (i.e., a string) as input and returns its pig\u0002Latin form.\n",
    "Your function should still work if the input word contains upper case characters. Your output should always be lower case however. >>> pig('happy')'appyhay'>>> pig('Enter')'enterway'"
   ]
  },
  {
   "cell_type": "code",
   "execution_count": 1,
   "id": "0eb817f9",
   "metadata": {},
   "outputs": [
    {
     "name": "stdout",
     "output_type": "stream",
     "text": [
      "appyhay\n",
      "enterway\n"
     ]
    }
   ],
   "source": [
    "def pig(word):\n",
    "    # Convert the word to lowercase\n",
    "    word = word.lower()\n",
    "    \n",
    "    # Check if the word starts with a vowel\n",
    "    if word[0] in 'aeiou':\n",
    "        return word + 'way'\n",
    "    else:\n",
    "        return word[1:] + word[0] + 'ay'\n",
    "    \n",
    "print(pig('happy'))\n",
    "# Output: 'appyhay'\n",
    "\n",
    "print(pig('Enter'))\n",
    "# Output: 'enterway'\n"
   ]
  },
  {
   "cell_type": "markdown",
   "id": "e5cab28c",
   "metadata": {},
   "source": [
    "# Question 7"
   ]
  },
  {
   "cell_type": "markdown",
   "id": "89475eeb",
   "metadata": {},
   "source": [
    "File bloodtype1.txt records blood-types of patients (A, B, AB, O or OO) at a clinic. \n",
    "Write a function bldcount() that reads the file with name name and reports (i.e., \n",
    "prints) how many patients there are in each bloodtype.\n",
    ">>> bldcount('bloodtype.txt')\n",
    "There are 10 patients of blood type A.\n",
    "There is one patient of blood type B.\n",
    "There are 10 patients of blood type AB.\n",
    "There are 12 patients of blood type O.\n",
    "There are no patients of blood type OO.\n"
   ]
  },
  {
   "cell_type": "code",
   "execution_count": 9,
   "id": "18e4ca50",
   "metadata": {},
   "outputs": [
    {
     "name": "stdout",
     "output_type": "stream",
     "text": [
      "type A : 15\n",
      "type B : 1\n",
      "type AB : 13\n",
      "type O : 15\n",
      "type OO : 0\n"
     ]
    }
   ],
   "source": [
    "def bldcount(name: str):\n",
    "    \n",
    "    A = 0\n",
    "    B = 0\n",
    "    AB = 0\n",
    "    O = 0\n",
    "    OO = 0\n",
    "       \n",
    " # Open the file for reading\n",
    "\n",
    "    with open(name, 'r') as file:\n",
    "                   \n",
    "  # Read each line in the file\n",
    "\n",
    "        line = file.readline()\n",
    "        \n",
    " # Extract the blood type from the line\n",
    " \n",
    "    bloodGroups = line.split()\n",
    "              \n",
    "# Increment the count for the corresponding blood type\n",
    "\n",
    "    \n",
    "    for bloodGroupType in bloodGroups:\n",
    "        if bloodGroupType == 'A':\n",
    "            A+=1\n",
    "        elif bloodGroupType == 'B':\n",
    "            B+=1\n",
    "        elif bloodGroupType == 'AB':\n",
    "            AB+=1\n",
    "        elif bloodGroupType == 'O':\n",
    "            O+=1\n",
    "        elif bloodGroupType == 'OO':\n",
    "            OO+=1 \n",
    "        \n",
    " # Print the blood type counts\n",
    "\n",
    "            \n",
    "    print(f'type A : {A}')\n",
    "    print(f'type B : {B}')\n",
    "    print(f'type AB : {AB}')\n",
    "    print(f'type O : {O}')\n",
    "    print(f'type OO : {OO}')\n",
    "    \n",
    "#Example\n",
    "\n",
    "file_name = 'bloodtype1.txt'\n",
    "bldcount(file_name)"
   ]
  },
  {
   "cell_type": "markdown",
   "id": "425fe939",
   "metadata": {},
   "source": [
    "# Question 8 "
   ]
  },
  {
   "cell_type": "markdown",
   "id": "f9fcaf02",
   "metadata": {},
   "source": [
    "Write a function curconv() that takes as input:\n",
    "1. a currency represented using a string (e.g., 'JPY' for the Japanese Yen or \n",
    "'EUR' for the Euro)\n",
    "2. an amount\n",
    "and then converts and returns the amount in US dollars.\n",
    ">>> curconv('EUR', 100)\n",
    "122.96544\n",
    ">>> curconv('JPY', 100)\n",
    "1.241401\n",
    "The currency rates you will need are stored in file currencies.txt:\n",
    "AUD 1.0345157 Australian Dollar\n",
    "CHF 1.0237414 Swiss Franc\n",
    "CNY 0.1550176 Chinese Yuan\n"
   ]
  },
  {
   "cell_type": "code",
   "execution_count": 17,
   "id": "b3b17a8d",
   "metadata": {},
   "outputs": [
    {
     "name": "stdout",
     "output_type": "stream",
     "text": [
      "The amount in USD is: 1.241401\n",
      "The amount in USD is: 122.96544\n"
     ]
    }
   ],
   "source": [
    "def curconv(currency, amount):\n",
    "    exchange_rates = {\n",
    "        'JPY': 0.01241401,   # Example exchange rate for Japanese Yen\n",
    "        'EUR': 1.2296544,     # Example exchange rate for Euro\n",
    "        # Add more exchange rates here for other currencies\n",
    "    }\n",
    "\n",
    "    if currency in exchange_rates:\n",
    "        usd_amount = amount * exchange_rates[currency]\n",
    "        return usd_amount\n",
    "    else:\n",
    "        print(f\"Exchange rate for {currency} not found.\")\n",
    "        return None\n",
    "\n",
    "# Example usage\n",
    "amount_in_usd = curconv('JPY', 100)\n",
    "if amount_in_usd is not None:\n",
    "    print(f\"The amount in USD is: {amount_in_usd}\")\n",
    "amount_in_usd = curconv('EUR', 100)\n",
    "if amount_in_usd is not None:\n",
    "    print(f\"The amount in USD is: {amount_in_usd}\")"
   ]
  },
  {
   "cell_type": "markdown",
   "id": "758d4a33",
   "metadata": {},
   "source": [
    "# Question 9"
   ]
  },
  {
   "cell_type": "markdown",
   "id": "43edcf06",
   "metadata": {},
   "source": [
    "Each of the following will cause an exception (an error). Identify what type of \n",
    "exception each will cause.\n",
    "Trying to add incompatible variables, as in \n",
    "adding 6 + ‘a’\n",
    "Referring to the 12th item of a list that has only 10 \n",
    "items\n",
    "Using a value that is out of range for a function’s \n",
    "input, such as calling math.sqrt(-1.0)\n",
    "Using an undeclared variable, such as print(x)\n",
    "when x has not been defined \n",
    "Trying to open a file that does not exist, such as \n",
    "mistyping the file name or looking in the wrong \n",
    "directory."
   ]
  },
  {
   "cell_type": "code",
   "execution_count": 18,
   "id": "a6107038",
   "metadata": {},
   "outputs": [
    {
     "ename": "TypeError",
     "evalue": "unsupported operand type(s) for +: 'int' and 'str'",
     "output_type": "error",
     "traceback": [
      "\u001b[1;31m---------------------------------------------------------------------------\u001b[0m",
      "\u001b[1;31mTypeError\u001b[0m                                 Traceback (most recent call last)",
      "Cell \u001b[1;32mIn[18], line 1\u001b[0m\n\u001b[1;32m----> 1\u001b[0m \u001b[38;5;241;43m6\u001b[39;49m\u001b[38;5;241;43m+\u001b[39;49m\u001b[38;5;124;43m'\u001b[39;49m\u001b[38;5;124;43ma\u001b[39;49m\u001b[38;5;124;43m'\u001b[39;49m\n",
      "\u001b[1;31mTypeError\u001b[0m: unsupported operand type(s) for +: 'int' and 'str'"
     ]
    }
   ],
   "source": [
    "6+'a'\n",
    "#This will cause a TypeError exception. It occurs when an operation or function is applied to an object of an inappropriate type."
   ]
  },
  {
   "cell_type": "code",
   "execution_count": 19,
   "id": "38ba0bcf",
   "metadata": {},
   "outputs": [
    {
     "ename": "IndexError",
     "evalue": "list index out of range",
     "output_type": "error",
     "traceback": [
      "\u001b[1;31m---------------------------------------------------------------------------\u001b[0m",
      "\u001b[1;31mIndexError\u001b[0m                                Traceback (most recent call last)",
      "Cell \u001b[1;32mIn[19], line 2\u001b[0m\n\u001b[0;32m      1\u001b[0m \u001b[38;5;28mlist\u001b[39m\u001b[38;5;241m=\u001b[39m[\u001b[38;5;241m1\u001b[39m,\u001b[38;5;241m2\u001b[39m,\u001b[38;5;241m3\u001b[39m,\u001b[38;5;241m4\u001b[39m,\u001b[38;5;241m5\u001b[39m,\u001b[38;5;241m6\u001b[39m,\u001b[38;5;241m7\u001b[39m,\u001b[38;5;241m8\u001b[39m,\u001b[38;5;241m9\u001b[39m,\u001b[38;5;241m10\u001b[39m]\n\u001b[1;32m----> 2\u001b[0m \u001b[38;5;28;43mlist\u001b[39;49m\u001b[43m[\u001b[49m\u001b[38;5;241;43m11\u001b[39;49m\u001b[43m]\u001b[49m\n",
      "\u001b[1;31mIndexError\u001b[0m: list index out of range"
     ]
    }
   ],
   "source": [
    "list=[1,2,3,4,5,6,7,8,9,10]\n",
    "list[11]\n",
    "#This will cause an IndexError exception. \n",
    "#It occurs when attempting to access an index that is outside the range of valid indices for a sequence (e.g., list, string)."
   ]
  },
  {
   "cell_type": "code",
   "execution_count": 23,
   "id": "ef706ca8",
   "metadata": {},
   "outputs": [
    {
     "ename": "ValueError",
     "evalue": "math domain error",
     "output_type": "error",
     "traceback": [
      "\u001b[1;31m---------------------------------------------------------------------------\u001b[0m",
      "\u001b[1;31mValueError\u001b[0m                                Traceback (most recent call last)",
      "Cell \u001b[1;32mIn[23], line 1\u001b[0m\n\u001b[1;32m----> 1\u001b[0m \u001b[43mmath\u001b[49m\u001b[38;5;241;43m.\u001b[39;49m\u001b[43msqrt\u001b[49m\u001b[43m(\u001b[49m\u001b[38;5;241;43m-\u001b[39;49m\u001b[38;5;241;43m2.3\u001b[39;49m\u001b[43m)\u001b[49m\n",
      "\u001b[1;31mValueError\u001b[0m: math domain error"
     ]
    }
   ],
   "source": [
    "math.sqrt(-2.3)\n",
    "#This will cause a ValueError exception. \n",
    "#It occurs when a function receives an argument of the correct type but with an invalid value."
   ]
  },
  {
   "cell_type": "code",
   "execution_count": 30,
   "id": "96db8e9a",
   "metadata": {},
   "outputs": [
    {
     "ename": "FileNotFoundError",
     "evalue": "[Errno 2] No such file or directory: 'bloodtyp.txt'",
     "output_type": "error",
     "traceback": [
      "\u001b[1;31m---------------------------------------------------------------------------\u001b[0m",
      "\u001b[1;31mFileNotFoundError\u001b[0m                         Traceback (most recent call last)",
      "Cell \u001b[1;32mIn[30], line 2\u001b[0m\n\u001b[0;32m      1\u001b[0m file_name \u001b[38;5;241m=\u001b[39m \u001b[38;5;124m'\u001b[39m\u001b[38;5;124mbloodtyp.txt\u001b[39m\u001b[38;5;124m'\u001b[39m\n\u001b[1;32m----> 2\u001b[0m \u001b[43mbldcount\u001b[49m\u001b[43m(\u001b[49m\u001b[43mfile_name\u001b[49m\u001b[43m)\u001b[49m\n",
      "Cell \u001b[1;32mIn[28], line 11\u001b[0m, in \u001b[0;36mbldcount\u001b[1;34m(name)\u001b[0m\n\u001b[0;32m      7\u001b[0m    OO \u001b[38;5;241m=\u001b[39m \u001b[38;5;241m0\u001b[39m\n\u001b[0;32m      9\u001b[0m \u001b[38;5;66;03m# Open the file for reading\u001b[39;00m\n\u001b[1;32m---> 11\u001b[0m    \u001b[38;5;28;01mwith\u001b[39;00m \u001b[38;5;28;43mopen\u001b[39;49m\u001b[43m(\u001b[49m\u001b[43mname\u001b[49m\u001b[43m,\u001b[49m\u001b[43m \u001b[49m\u001b[38;5;124;43m'\u001b[39;49m\u001b[38;5;124;43mr\u001b[39;49m\u001b[38;5;124;43m'\u001b[39;49m\u001b[43m)\u001b[49m \u001b[38;5;28;01mas\u001b[39;00m file:\n\u001b[0;32m     12\u001b[0m                   \n\u001b[0;32m     13\u001b[0m  \u001b[38;5;66;03m# Read each line in the file\u001b[39;00m\n\u001b[0;32m     15\u001b[0m        line \u001b[38;5;241m=\u001b[39m file\u001b[38;5;241m.\u001b[39mreadline()\n\u001b[0;32m     17\u001b[0m \u001b[38;5;66;03m# Extract the blood type from the line\u001b[39;00m\n",
      "File \u001b[1;32m~\\anaconda3\\lib\\site-packages\\IPython\\core\\interactiveshell.py:282\u001b[0m, in \u001b[0;36m_modified_open\u001b[1;34m(file, *args, **kwargs)\u001b[0m\n\u001b[0;32m    275\u001b[0m \u001b[38;5;28;01mif\u001b[39;00m file \u001b[38;5;129;01min\u001b[39;00m {\u001b[38;5;241m0\u001b[39m, \u001b[38;5;241m1\u001b[39m, \u001b[38;5;241m2\u001b[39m}:\n\u001b[0;32m    276\u001b[0m     \u001b[38;5;28;01mraise\u001b[39;00m \u001b[38;5;167;01mValueError\u001b[39;00m(\n\u001b[0;32m    277\u001b[0m         \u001b[38;5;124mf\u001b[39m\u001b[38;5;124m\"\u001b[39m\u001b[38;5;124mIPython won\u001b[39m\u001b[38;5;124m'\u001b[39m\u001b[38;5;124mt let you open fd=\u001b[39m\u001b[38;5;132;01m{\u001b[39;00mfile\u001b[38;5;132;01m}\u001b[39;00m\u001b[38;5;124m by default \u001b[39m\u001b[38;5;124m\"\u001b[39m\n\u001b[0;32m    278\u001b[0m         \u001b[38;5;124m\"\u001b[39m\u001b[38;5;124mas it is likely to crash IPython. If you know what you are doing, \u001b[39m\u001b[38;5;124m\"\u001b[39m\n\u001b[0;32m    279\u001b[0m         \u001b[38;5;124m\"\u001b[39m\u001b[38;5;124myou can use builtins\u001b[39m\u001b[38;5;124m'\u001b[39m\u001b[38;5;124m open.\u001b[39m\u001b[38;5;124m\"\u001b[39m\n\u001b[0;32m    280\u001b[0m     )\n\u001b[1;32m--> 282\u001b[0m \u001b[38;5;28;01mreturn\u001b[39;00m io_open(file, \u001b[38;5;241m*\u001b[39margs, \u001b[38;5;241m*\u001b[39m\u001b[38;5;241m*\u001b[39mkwargs)\n",
      "\u001b[1;31mFileNotFoundError\u001b[0m: [Errno 2] No such file or directory: 'bloodtyp.txt'"
     ]
    }
   ],
   "source": [
    "file_name = 'bloodtyp.txt'\n",
    "bldcount(file_name)\n",
    "#This will cause a FileNotFoundError exception. \n",
    "#It occurs when attempting to open or access a file that does not exist or cannot be found in the specified directory."
   ]
  },
  {
   "cell_type": "markdown",
   "id": "44b08ce5",
   "metadata": {},
   "source": [
    "# Question 10"
   ]
  },
  {
   "cell_type": "markdown",
   "id": "8f47e356",
   "metadata": {},
   "source": [
    "Encryption is the process of hiding the meaning of a text by substituting letters in the \n",
    "message with other letters, according to some system. If the process is successful, no \n",
    "one but the intended recipient can understand the encrypted message. Cryptanalysis\n",
    "refers to attempts to undo the encryption, even if some details of the encryption are \n",
    "unknown (for example, if an encrypted message has been intercepted). The first step \n",
    "of cryptanalysis is often to build up a table of letter frequencies in the encrypted text. \n",
    "Assume that the string letters is already defined as \n",
    "'abcdefghijklmnopqrstuvwxyz'. Write a function called frequencies()\n",
    "that takes a string as its only parameter, and returns a list of integers, showing the \n",
    "number of times each character appears in the text. Your function may ignore any \n",
    "characters that are not in letters. \n",
    ">>> frequencies('The quick red fox got bored and went home.')\n",
    "[1, 1, 1, 3, 5, 1, 1, 2, 1, 0, 1, 0, 1, 2, 4, 0, 1, 2, 0, 2, \n",
    "1, 0, 1, 1, 0, 0]\n",
    ">>> frequencies('apple')"
   ]
  },
  {
   "cell_type": "code",
   "execution_count": 32,
   "id": "3fe6bf50",
   "metadata": {},
   "outputs": [
    {
     "name": "stdout",
     "output_type": "stream",
     "text": [
      "[1, 1, 1, 3, 5, 1, 1, 2, 1, 0, 1, 0, 1, 2, 4, 0, 1, 2, 0, 3, 1, 0, 1, 1, 0, 0]\n",
      "[1, 0, 0, 0, 1, 0, 0, 0, 0, 0, 0, 1, 0, 0, 0, 2, 0, 0, 0, 0, 0, 0, 0, 0, 0, 0]\n"
     ]
    }
   ],
   "source": [
    "def frequencies(text):\n",
    "    letters = 'abcdefghijklmnopqrstuvwxyz'\n",
    "    freq_list = [0] * 26  # Initialize a list of 26 zeros for letter frequencies\n",
    "\n",
    "    # Convert the input text to lowercase for case-insensitive comparison\n",
    "    text = text.lower()\n",
    "\n",
    "    # Count the frequency of each letter in the text\n",
    "    for char in text:\n",
    "        if char in letters:\n",
    "            index = letters.index(char)\n",
    "            freq_list[index] += 1\n",
    "\n",
    "    return freq_list\n",
    "\n",
    "print(frequencies('The quick red fox got bored and went home.'))\n",
    "# Output: [1, 1, 1, 3, 5, 1, 1, 2, 1, 0, 1, 0, 1, 2, 4, 0, 1, 2, 0, 2, 1, 0, 1, 1, 0, 0]\n",
    "\n",
    "print(frequencies('apple'))\n",
    "# Output: [1, 0, 0, 0, 1, 0, 0, 0, 0, 0, 0, 1, 0, 0, 1, 0, 0, 0, 0, 0, 0, 0, 0, 0, 0, 0]\n"
   ]
  }
 ],
 "metadata": {
  "kernelspec": {
   "display_name": "Python 3 (ipykernel)",
   "language": "python",
   "name": "python3"
  },
  "language_info": {
   "codemirror_mode": {
    "name": "ipython",
    "version": 3
   },
   "file_extension": ".py",
   "mimetype": "text/x-python",
   "name": "python",
   "nbconvert_exporter": "python",
   "pygments_lexer": "ipython3",
   "version": "3.10.9"
  }
 },
 "nbformat": 4,
 "nbformat_minor": 5
}
